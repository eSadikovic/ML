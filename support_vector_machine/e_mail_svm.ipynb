{
 "cells": [
  {
   "cell_type": "markdown",
   "metadata": {},
   "source": [
    "# Pitagorina teorema: $a^2 + b^2 = c^2$\n",
    "EMir sdfsdf "
   ]
  },
  {
   "cell_type": "code",
   "execution_count": 5,
   "metadata": {},
   "outputs": [
    {
     "name": "stdout",
     "output_type": "stream",
     "text": [
      "no. of Chris training emails: 7936\n",
      "no. of Sara training emails: 7884\n",
      "features_train \n",
      "\n",
      "training time: 0.131 s\n",
      "predicting time: 0.996 s\n",
      "pocinje accu\n",
      "uspesnost prognoze:  0.892491467577\n",
      "1 0 1\n"
     ]
    }
   ],
   "source": [
    "# import sys\n",
    "from time import time\n",
    "from sklearn.metrics import accuracy_score\n",
    "sys.path.append(\"../ud120-projects/tools/\")\n",
    "from email_preprocess import preprocess\n",
    "\n",
    "\n",
    "from sklearn import svm\n",
    "\n",
    "features_train, features_test, labels_train, labels_test=preprocess()\n",
    "print \"features_train \\n\"\n",
    "\n",
    "\n",
    "clf = svm.SVC(kernel=\"rbf\", C=10000)\n",
    "\n",
    "features_train = features_train[:len(features_train)/100] \n",
    "labels_train = labels_train[:len(labels_train)/100] \n",
    "t0=time()\n",
    "clf.fit(features_train, labels_train)\n",
    "print \"training time:\", round(time()-t0, 3), \"s\"\n",
    "\n",
    "t1=time()\n",
    "pred=clf.predict(features_test)\n",
    "print \"predicting time:\", round(time()-t1, 3), \"s\"\n",
    "\n",
    "print \"pocinje accu\"\n",
    "print \"uspesnost prognoze: \", accuracy_score(pred, labels_test)\n",
    "\n",
    "\n",
    "print pred[10], pred[26], pred [50]"
   ]
  },
  {
   "cell_type": "code",
   "execution_count": null,
   "metadata": {
    "collapsed": true
   },
   "outputs": [],
   "source": []
  },
  {
   "cell_type": "code",
   "execution_count": 6,
   "metadata": {},
   "outputs": [
    {
     "name": "stdout",
     "output_type": "stream",
     "text": [
      "no. of Chris training emails: 7936\n",
      "no. of Sara training emails: 7884\n",
      "features_train \n",
      "\n",
      "training time: 156.824 s\n",
      "predicting time: 14.887 s\n",
      "pocinje accu\n",
      "uspesnost prognoze:  0.990898748578\n",
      "877\n"
     ]
    }
   ],
   "source": [
    "from time import time\n",
    "from sklearn.metrics import accuracy_score\n",
    "sys.path.append(\"../ud120-projects/tools/\")\n",
    "from email_preprocess import preprocess\n",
    "\n",
    "\n",
    "from sklearn import svm\n",
    "\n",
    "features_train, features_test, labels_train, labels_test=preprocess()\n",
    "print \"features_train \\n\"\n",
    "\n",
    "\n",
    "clf = svm.SVC(kernel=\"rbf\", C=10000)\n",
    "\n",
    "\n",
    "t0=time()\n",
    "clf.fit(features_train, labels_train)\n",
    "print \"training time:\", round(time()-t0, 3), \"s\"\n",
    "\n",
    "t1=time()\n",
    "pred=clf.predict(features_test)\n",
    "print \"predicting time:\", round(time()-t1, 3), \"s\"\n",
    "\n",
    "print \"pocinje accu\"\n",
    "print \"uspesnost prognoze: \", accuracy_score(pred, labels_test)\n",
    "\n",
    "n=0\n",
    "for i in pred:\n",
    "    if (i==1):\n",
    "        n=n+1\n",
    "        \n",
    "print n\n",
    "        "
   ]
  },
  {
   "cell_type": "code",
   "execution_count": null,
   "metadata": {
    "scrolled": true
   },
   "outputs": [],
   "source": []
  },
  {
   "cell_type": "code",
   "execution_count": null,
   "metadata": {
    "collapsed": true
   },
   "outputs": [],
   "source": []
  }
 ],
 "metadata": {
  "kernelspec": {
   "display_name": "Python 2",
   "language": "python",
   "name": "python2"
  },
  "language_info": {
   "codemirror_mode": {
    "name": "ipython",
    "version": 2
   },
   "file_extension": ".py",
   "mimetype": "text/x-python",
   "name": "python",
   "nbconvert_exporter": "python",
   "pygments_lexer": "ipython2",
   "version": "2.7.13"
  }
 },
 "nbformat": 4,
 "nbformat_minor": 2
}
