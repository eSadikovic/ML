{
 "cells": [
  {
   "cell_type": "code",
   "execution_count": null,
   "metadata": {},
   "outputs": [
    {
     "name": "stderr",
     "output_type": "stream",
     "text": [
      "C:\\Users\\emir.sadikovic\\AppData\\Local\\Continuum\\Anaconda2\\lib\\site-packages\\sklearn\\cross_validation.py:44: DeprecationWarning: This module was deprecated in version 0.18 in favor of the model_selection module into which all the refactored classes and functions are moved. Also note that the interface of the new CV iterators are different from that of this module. This module will be removed in 0.20.\n",
      "  \"This module will be removed in 0.20.\", DeprecationWarning)\n"
     ]
    },
    {
     "name": "stdout",
     "output_type": "stream",
     "text": [
      "no. of Chris training emails: 7936\n",
      "no. of Sara training emails: 7884\n"
     ]
    }
   ],
   "source": [
    "\n",
    "#!/usr/bin/python\n",
    "\n",
    "\n",
    "import sys\n",
    "\n",
    "from time import time\n",
    "\n",
    "sys.path.append(\"../tools/\")\n",
    "\n",
    "from email_preprocess import preprocess\n",
    "\n",
    "\n",
    "\n",
    "features_train, features_test, labels_train, labels_test = preprocess()\n",
    "\n",
    "\n",
    "\n",
    "\n",
    "\n",
    "\n",
    "\n",
    "\n",
    "\n",
    "from sklearn.svm import SVC\n",
    "\n",
    "clf = SVC(C=10000, kernel=\"rbf\")\n",
    "\n",
    "\n",
    "\n",
    "\n",
    "\n",
    "t0 = time()\n",
    "\n",
    "clf.fit(features_train, labels_train)\n",
    "\n",
    "print \"training time:\", round(time()-t0, 3), \"s\"\n",
    "\n",
    "#t1 = time()\n",
    "\n",
    "pred = clf.predict(features_test)\n",
    "\n",
    "count = 0\n",
    "\n",
    "for p in pred:\n",
    "\n",
    "    if p == 1:\n",
    "\n",
    "        count = count + 1\n",
    "\n",
    "print \"count:\", count\n",
    "\n",
    "t2 = time()\n",
    "\n",
    "print \"accuracy: \", clf.score(features_test, labels_test)\n",
    "\n",
    "print \"scoring time:\", round(time()-t2, 3), \"s\""
   ]
  },
  {
   "cell_type": "code",
   "execution_count": null,
   "metadata": {
    "collapsed": true
   },
   "outputs": [],
   "source": []
  }
 ],
 "metadata": {
  "kernelspec": {
   "display_name": "Python 2",
   "language": "python",
   "name": "python2"
  },
  "language_info": {
   "codemirror_mode": {
    "name": "ipython",
    "version": 2
   },
   "file_extension": ".py",
   "mimetype": "text/x-python",
   "name": "python",
   "nbconvert_exporter": "python",
   "pygments_lexer": "ipython2",
   "version": "2.7.13"
  }
 },
 "nbformat": 4,
 "nbformat_minor": 2
}
