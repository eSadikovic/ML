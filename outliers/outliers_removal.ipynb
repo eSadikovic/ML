{
 "cells": [
  {
   "cell_type": "code",
   "execution_count": 1,
   "metadata": {},
   "outputs": [
    {
     "name": "stderr",
     "output_type": "stream",
     "text": [
      "C:\\Users\\emir.sadikovic\\AppData\\Local\\Continuum\\Anaconda2\\lib\\site-packages\\sklearn\\cross_validation.py:44: DeprecationWarning: This module was deprecated in version 0.18 in favor of the model_selection module into which all the refactored classes and functions are moved. Also note that the interface of the new CV iterators are different from that of this module. This module will be removed in 0.20.\n",
      "  \"This module will be removed in 0.20.\", DeprecationWarning)\n"
     ]
    },
    {
     "data": {
      "image/png": "iVBORw0KGgoAAAANSUhEUgAAAXoAAAD8CAYAAAB5Pm/hAAAABHNCSVQICAgIfAhkiAAAAAlwSFlz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\nMF8Mc5CmM8gAAAAASUVORK5CYII=\n",
      "text/plain": [
       "<matplotlib.figure.Figure at 0x9ae3b70>"
      ]
     },
     "metadata": {},
     "output_type": "display_data"
    },
    {
     "data": {
      "image/png": "iVBORw0KGgoAAAANSUhEUgAAAYgAAAEKCAYAAAAIO8L1AAAABHNCSVQICAgIfAhkiAAAAAlwSFlz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\n",
      "text/plain": [
       "<matplotlib.figure.Figure at 0x68909e8>"
      ]
     },
     "metadata": {},
     "output_type": "display_data"
    },
    {
     "name": "stdout",
     "output_type": "stream",
     "text": [
      "koeficijent: [[ 6.32006691]]\n",
      "intercept:  [-5.32173018]\n",
      "score:  0.982470051004\n"
     ]
    }
   ],
   "source": [
    "#!/usr/bin/python\n",
    "\n",
    "import random\n",
    "import numpy\n",
    "import matplotlib.pyplot as plt\n",
    "import pickle\n",
    "from sklearn import linear_model\n",
    "\n",
    "\n",
    "from outlier_cleaner import outlierCleaner\n",
    "\n",
    "\n",
    "### load up some practice data with outliers in it\n",
    "ages = pickle.load( open(\"practice_outliers_ages.pkl\", \"r\") )\n",
    "net_worths = pickle.load( open(\"practice_outliers_net_worths.pkl\", \"r\") )\n",
    "\n",
    "\n",
    "\n",
    "### ages and net_worths need to be reshaped into 2D numpy arrays\n",
    "### second argument of reshape command is a tuple of integers: (n_rows, n_columns)\n",
    "### by convention, n_rows is the number of data points\n",
    "### and n_columns is the number of features\n",
    "ages       = numpy.reshape( numpy.array(ages), (len(ages), 1))\n",
    "net_worths = numpy.reshape( numpy.array(net_worths), (len(net_worths), 1))\n",
    "from sklearn.cross_validation import train_test_split\n",
    "ages_train, ages_test, net_worths_train, net_worths_test = train_test_split(ages, net_worths, test_size=0.1, random_state=42)\n",
    "\n",
    "### fill in a regression here!  Name the regression object reg so that\n",
    "### the plotting code below works, and you can see what your regression looks like\n",
    "\n",
    "reg = linear_model.LinearRegression()\n",
    "reg.fit(ages_train, net_worths_train)\n",
    "\n",
    "\n",
    "\n",
    "\n",
    "\n",
    "\n",
    "\n",
    "\n",
    "\n",
    "try:\n",
    "    plt.plot(ages, reg.predict(ages), color=\"blue\")\n",
    "except NameError:\n",
    "    pass\n",
    "plt.scatter(ages, net_worths)\n",
    "plt.show()\n",
    "\n",
    "\n",
    "### identify and remove the most outlier-y points\n",
    "cleaned_data = []\n",
    "try:\n",
    "    predictions = reg.predict(ages_train)\n",
    "    cleaned_data = outlierCleaner( predictions, ages_train, net_worths_train )\n",
    "except NameError:\n",
    "    print \"your regression object doesn't exist, or isn't name reg\"\n",
    "    print \"can't make predictions to use in identifying outliers\"\n",
    "\n",
    "\n",
    "\n",
    "\n",
    "\n",
    "\n",
    "\n",
    "### only run this code if cleaned_data is returning data\n",
    "if len(cleaned_data) > 0:\n",
    "    ages, net_worths, errors = zip(*cleaned_data)\n",
    "    ages       = numpy.reshape( numpy.array(ages), (len(ages), 1))\n",
    "    net_worths = numpy.reshape( numpy.array(net_worths), (len(net_worths), 1))\n",
    "\n",
    "    ### refit your cleaned data!\n",
    "    try:\n",
    "        reg.fit(ages, net_worths)\n",
    "        plt.plot(ages, reg.predict(ages), color=\"blue\")\n",
    "    except NameError:\n",
    "        print \"you don't seem to have regression imported/created,\"\n",
    "        print \"   or else your regression object isn't named reg\"\n",
    "        print \"   either way, only draw the scatter plot of the cleaned data\"\n",
    "    plt.scatter(ages, net_worths)\n",
    "    plt.xlabel(\"ages\")\n",
    "    plt.ylabel(\"net worths\")\n",
    "    plt.show()\n",
    "\n",
    "\n",
    "else:\n",
    "    print \"outlierCleaner() is returning an empty list, no refitting to be done\"\n",
    "\n",
    "print \"koeficijent:\", reg.coef_\n",
    "print \"intercept: \", reg.intercept_ \n",
    "print \"score: \", reg.score(ages_test, net_worths_test)\n"
   ]
  },
  {
   "cell_type": "code",
   "execution_count": null,
   "metadata": {
    "collapsed": true
   },
   "outputs": [],
   "source": []
  },
  {
   "cell_type": "code",
   "execution_count": 13,
   "metadata": {},
   "outputs": [
    {
     "name": "stdout",
     "output_type": "stream",
     "text": [
      "2.0\n",
      "6\n"
     ]
    }
   ],
   "source": [
    "from math import *\n",
    "print sqrt(4)\n",
    "print 4^2"
   ]
  },
  {
   "cell_type": "code",
   "execution_count": 11,
   "metadata": {},
   "outputs": [
    {
     "data": {
      "text/plain": [
       "6"
      ]
     },
     "execution_count": 11,
     "metadata": {},
     "output_type": "execute_result"
    }
   ],
   "source": []
  },
  {
   "cell_type": "code",
   "execution_count": 29,
   "metadata": {},
   "outputs": [
    {
     "name": "stdout",
     "output_type": "stream",
     "text": [
      "[(1, 7, 234), (2, 8, 456), (3, 9, 78), (34, 12, 234), (45, 36, 56)]\n",
      "[(45, 36, 56), (3, 9, 78), (1, 7, 234), (34, 12, 234), (2, 8, 456)]\n"
     ]
    }
   ],
   
  
  
  

 
 
 "metadata": {
  "kernelspec": {
   "display_name": "Python 2",
   "language": "python",
   "name": "python2"
  },
  "language_info": {
   "codemirror_mode": {
    "name": "ipython",
    "version": 2
   },
   "file_extension": ".py",
   "mimetype": "text/x-python",
   "name": "python",
   "nbconvert_exporter": "python",
   "pygments_lexer": "ipython2",
   "version": "2.7.13"
  }
 },
 "nbformat": 4,
 "nbformat_minor": 2
}
