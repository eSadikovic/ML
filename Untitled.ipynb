{
 "cells": [
  {
   "cell_type": "code",
   "execution_count": 2,
   "metadata": {},
   "outputs": [
    {
     "name": "stdout",
     "output_type": "stream",
     "text": [
      "0.724137931034\n"
     ]
    }
   ],
   "source": [
    "#!/usr/bin/python\n",
    "\n",
    "\n",
    "\n",
    "\n",
    "\n",
    "\"\"\"\n",
    "\n",
    "    Starter code for the validation mini-project.\n",
    "\n",
    "    The first step toward building your POI identifier!\n",
    "\n",
    "\n",
    "\n",
    "    Start by loading/formatting the data\n",
    "\n",
    "\n",
    "\n",
    "    After that, it's not our code anymore--it's yours!\n",
    "\n",
    "\"\"\"\n",
    "\n",
    "\n",
    "\n",
    "import pickle\n",
    "\n",
    "import sys\n",
    "\n",
    "sys.path.append(\"../tools/\")\n",
    "\n",
    "from feature_format import featureFormat, targetFeatureSplit\n",
    "\n",
    "\n",
    "\n",
    "data_dict = pickle.load(open(\"../final_project/final_project_dataset.pkl\", \"r\") )\n",
    "\n",
    "\n",
    "\n",
    "### first element is our labels, any added elements are predictor\n",
    "\n",
    "### features. Keep this the same for the mini-project, but you'll\n",
    "\n",
    "### have a different feature list when you do the final project.\n",
    "\n",
    "features_list = [\"poi\", \"salary\"]\n",
    "\n",
    "\n",
    "\n",
    "data = featureFormat(data_dict, features_list)\n",
    "\n",
    "labels, features = targetFeatureSplit(data)\n",
    "\n",
    "\n",
    "\n",
    "from sklearn.cross_validation import train_test_split\n",
    "\n",
    "features_train, features_test, labels_train , labels_test = train_test_split(features,\\\n",
    "\n",
    "    labels, random_state=42, test_size=0.3)\n",
    "\n",
    "\n",
    "\n",
    "### it's all yours from here forward!  \n",
    "\n",
    "\n",
    "\n",
    "from sklearn.tree import DecisionTreeClassifier\n",
    "\n",
    "clf = DecisionTreeClassifier()\n",
    "\n",
    "clf.fit(features_train, labels_train)\n",
    "\n",
    "print clf.score(features_test, labels_test)"
   ]
  },
  {
   "cell_type": "code",
   "execution_count": null,
   "metadata": {
    "collapsed": true
   },
   "outputs": [],
   "source": []
  }
 ],
 "metadata": {
  "kernelspec": {
   "display_name": "Python 2",
   "language": "python",
   "name": "python2"
  },
  "language_info": {
   "codemirror_mode": {
    "name": "ipython",
    "version": 2
   },
   "file_extension": ".py",
   "mimetype": "text/x-python",
   "name": "python",
   "nbconvert_exporter": "python",
   "pygments_lexer": "ipython2",
   "version": "2.7.13"
  }
 },
 "nbformat": 4,
 "nbformat_minor": 2
}
